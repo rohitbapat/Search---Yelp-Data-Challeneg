{
 "cells": [
  {
   "cell_type": "code",
   "execution_count": 1,
   "metadata": {},
   "outputs": [],
   "source": [
    "import pickle as pk\n",
    "import numpy as np\n",
    "import json\n",
    "import pandas as pd\n",
    "import re\n",
    "from sklearn.feature_extraction.text import CountVectorizer\n",
    "import pandas as pd\n",
    "from sklearn.metrics.pairwise import cosine_similarity\n",
    "from sklearn.feature_extraction.text import TfidfVectorizer\n",
    "\n",
    "### Code to get data from collection"
   ]
  },
  {
   "cell_type": "code",
   "execution_count": 2,
   "metadata": {},
   "outputs": [],
   "source": [
    "queries_df = pd.read_csv("train.csv", delimiter = '|')"
   ]
  },
  {
   "cell_type": "code",
   "execution_count": 4,
   "metadata": {},
   "outputs": [
    {
     "data": {
      "text/plain": [
       "Index(['Unnamed: 0', '_id', 'business_id', 'categories', 'city', 'name',\n",
       "       'reviews_y', 'new categories', 'text'],\n",
       "      dtype='object')"
      ]
     },
     "execution_count": 4,
     "metadata": {},
     "output_type": "execute_result"
    }
   ],
   "source": [
    "queries_df.columns"
   ]
  },
  {
   "cell_type": "code",
   "execution_count": 5,
   "metadata": {},
   "outputs": [],
   "source": [
    "def remove_categories(row):\n",
    "    row = row.replace('[','').replace(']','').replace(\"'\",'').split(', ')\n",
    "    if len(row) == 1:\n",
    "        return row\n",
    "    elif len(row) == 2 and 'Food' in row and 'Restaurants' in row:\n",
    "        return row\n",
    "    else:\n",
    "        row = [x for x in row if x not in ['Food','Restaurants']]\n",
    "    return row"
   ]
  },
  {
   "cell_type": "code",
   "execution_count": 6,
   "metadata": {},
   "outputs": [],
   "source": [
    "queries_df['new categories'] = queries_df['new categories'].apply(remove_categories)"
   ]
  },
  {
   "cell_type": "code",
   "execution_count": 7,
   "metadata": {},
   "outputs": [
    {
     "data": {
      "text/html": [
       "<div>\n",
       "<style scoped>\n",
       "    .dataframe tbody tr th:only-of-type {\n",
       "        vertical-align: middle;\n",
       "    }\n",
       "\n",
       "    .dataframe tbody tr th {\n",
       "        vertical-align: top;\n",
       "    }\n",
       "\n",
       "    .dataframe thead th {\n",
       "        text-align: right;\n",
       "    }\n",
       "</style>\n",
       "<table border=\"1\" class=\"dataframe\">\n",
       "  <thead>\n",
       "    <tr style=\"text-align: right;\">\n",
       "      <th></th>\n",
       "      <th>Unnamed: 0</th>\n",
       "      <th>_id</th>\n",
       "      <th>business_id</th>\n",
       "      <th>categories</th>\n",
       "      <th>city</th>\n",
       "      <th>name</th>\n",
       "      <th>reviews_y</th>\n",
       "      <th>new categories</th>\n",
       "      <th>text</th>\n",
       "    </tr>\n",
       "  </thead>\n",
       "  <tbody>\n",
       "    <tr>\n",
       "      <th>1070</th>\n",
       "      <td>2190</td>\n",
       "      <td>5ca4ba38d26cf5e795ceeead</td>\n",
       "      <td>Fanu7vgveGy1LyLV8R9aMA</td>\n",
       "      <td>Pubs, Nightlife, Indian, Chinese, Bars, Barbeq...</td>\n",
       "      <td>Las Vegas</td>\n",
       "      <td>Indian Theme Bistro印第安啤酒屋</td>\n",
       "      <td>Food is sooo tasty And their karaoke is awesom...</td>\n",
       "      <td>[Chinese, Indian]</td>\n",
       "      <td>Highly recommend</td>\n",
       "    </tr>\n",
       "  </tbody>\n",
       "</table>\n",
       "</div>"
      ],
      "text/plain": [
       "      Unnamed: 0                       _id             business_id  \\\n",
       "1070        2190  5ca4ba38d26cf5e795ceeead  Fanu7vgveGy1LyLV8R9aMA   \n",
       "\n",
       "                                             categories       city  \\\n",
       "1070  Pubs, Nightlife, Indian, Chinese, Bars, Barbeq...  Las Vegas   \n",
       "\n",
       "                           name  \\\n",
       "1070  Indian Theme Bistro印第安啤酒屋   \n",
       "\n",
       "                                              reviews_y     new categories  \\\n",
       "1070  Food is sooo tasty And their karaoke is awesom...  [Chinese, Indian]   \n",
       "\n",
       "                  text  \n",
       "1070  Highly recommend  "
      ]
     },
     "execution_count": 7,
     "metadata": {},
     "output_type": "execute_result"
    }
   ],
   "source": [
    "queries_df[queries_df['business_id'] == 'Fanu7vgveGy1LyLV8R9aMA']"
   ]
  },
  {
   "cell_type": "code",
   "execution_count": 8,
   "metadata": {},
   "outputs": [],
   "source": [
    "ground_truth = queries_df.loc[0]['new categories'] "
   ]
  },
  {
   "cell_type": "code",
   "execution_count": 9,
   "metadata": {},
   "outputs": [],
   "source": [
    "business_list = list()\n",
    "relevance_list = list()\n",
    "for ind,row in queries_df.iterrows():\n",
    "    flag = 0\n",
    "    for categ in row['new categories']:\n",
    "        if categ in ground_truth:\n",
    "            flag = 1\n",
    "    business_list.append(row['business_id'])\n",
    "    relevance_list.append(flag)\n",
    "ind = [1]*len(business_list)\n",
    "dummy = [0]*len(business_list)\n",
    "    \n",
    "        "
   ]
  },
  {
   "cell_type": "code",
   "execution_count": 10,
   "metadata": {},
   "outputs": [],
   "source": [
    "pd.DataFrame({0:ind,1:dummy,2:business_list,3:relevance_list}).to_csv('qrels.csv',index = False,header = False,sep = ' ')"
   ]
  },
  {
   "cell_type": "code",
   "execution_count": null,
   "metadata": {},
   "outputs": [],
   "source": []
  }
 ],
 "metadata": {
  "kernelspec": {
   "display_name": "Python 3",
   "language": "python",
   "name": "python3"
  },
  "language_info": {
   "codemirror_mode": {
    "name": "ipython",
    "version": 3
   },
   "file_extension": ".py",
   "mimetype": "text/x-python",
   "name": "python",
   "nbconvert_exporter": "python",
   "pygments_lexer": "ipython3",
   "version": "3.6.5"
  }
 },
 "nbformat": 4,
 "nbformat_minor": 2
}
